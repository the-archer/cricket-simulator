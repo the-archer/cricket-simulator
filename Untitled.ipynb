{
 "cells": [
  {
   "cell_type": "code",
   "execution_count": 6,
   "id": "8f07a93e-3f3c-4f59-8566-094e8df61fcf",
   "metadata": {},
   "outputs": [],
   "source": [
    "from sklearn.ensemble import RandomForestClassifier\n",
    "import pickle\n",
    "\n",
    "\n",
    "\n",
    "def train_model(features, values):\n",
    "    clf = RandomForestClassifier()\n",
    "    clf = clf.fit(features, values)\n",
    "    return clf\n",
    "    #     X = [[0, 0], [1, 1]]\n",
    "    # Y = [0, 1]\n",
    "    # clf = RandomForestClassifier()\n",
    "    # clf = clf.fit(X, Y)\n",
    "        \n",
    "    \n",
    "    \n",
    "def main():\n",
    "    with open('data.pkl', 'rb') as f:\n",
    "        data = pickle.load(f)\n",
    "        model = train_model(data['first_innings_features'], data['first_innings_values'])\n",
    "     "
   ]
  },
  {
   "cell_type": "code",
   "execution_count": null,
   "id": "5e6322e8-e273-4db1-a8de-d3b72384408f",
   "metadata": {},
   "outputs": [],
   "source": [
    "data = {}\n",
    "with open('data.pkl', 'rb') as f:\n",
    "        data = pickle.load(f)\n",
    "data['first_innings_features']"
   ]
  },
  {
   "cell_type": "code",
   "execution_count": 4,
   "id": "abac182a-2a98-46c4-b734-7bf1749e189c",
   "metadata": {},
   "outputs": [
    {
     "data": {
      "text/plain": [
       "688654"
      ]
     },
     "execution_count": 4,
     "metadata": {},
     "output_type": "execute_result"
    }
   ],
   "source": [
    "len(data['first_innings_values'])"
   ]
  },
  {
   "cell_type": "code",
   "execution_count": 7,
   "id": "1d13e53c-4ea9-4a70-b99e-7e3ee97a4652",
   "metadata": {},
   "outputs": [
    {
     "data": {
      "text/plain": [
       "688654"
      ]
     },
     "execution_count": 7,
     "metadata": {},
     "output_type": "execute_result"
    }
   ],
   "source": [
    "len(data['first_innings_features'])"
   ]
  },
  {
   "cell_type": "code",
   "execution_count": null,
   "id": "609988af-328b-4e62-9eb1-a88f7111a55d",
   "metadata": {},
   "outputs": [],
   "source": []
  }
 ],
 "metadata": {
  "kernelspec": {
   "display_name": "Python 3 (ipykernel)",
   "language": "python",
   "name": "python3"
  },
  "language_info": {
   "codemirror_mode": {
    "name": "ipython",
    "version": 3
   },
   "file_extension": ".py",
   "mimetype": "text/x-python",
   "name": "python",
   "nbconvert_exporter": "python",
   "pygments_lexer": "ipython3",
   "version": "3.12.0"
  }
 },
 "nbformat": 4,
 "nbformat_minor": 5
}
